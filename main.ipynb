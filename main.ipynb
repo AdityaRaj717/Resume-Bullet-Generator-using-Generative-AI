{
 "cells": [
  {
   "cell_type": "code",
   "execution_count": null,
   "id": "3e4acf7e",
   "metadata": {},
   "outputs": [],
   "source": [
    "from transformers import pipeline, set_seed\n",
    "import streamlit as st"
   ]
  }
 ],
 "metadata": {
  "kernelspec": {
   "display_name": "Python 3",
   "language": "python",
   "name": "python3"
  },
  "language_info": {
   "name": "python",
   "version": "3.9.13"
  }
 },
 "nbformat": 4,
 "nbformat_minor": 5
}
